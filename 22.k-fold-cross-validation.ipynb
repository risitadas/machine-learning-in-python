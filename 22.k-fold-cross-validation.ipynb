{
  "nbformat": 4,
  "nbformat_minor": 0,
  "metadata": {
    "colab": {
      "provenance": [],
      "collapsed_sections": [],
      "authorship_tag": "ABX9TyOXxRk3VYA+/UvBM1zOrf6W",
      "include_colab_link": true
    },
    "kernelspec": {
      "name": "python3",
      "display_name": "Python 3"
    },
    "language_info": {
      "name": "python"
    }
  },
  "cells": [
    {
      "cell_type": "markdown",
      "metadata": {
        "id": "view-in-github",
        "colab_type": "text"
      },
      "source": [
        "<a href=\"https://colab.research.google.com/github/risitadas/machine-learning-in-python/blob/main/22.k-fold-cross-validation.ipynb\" target=\"_parent\"><img src=\"https://colab.research.google.com/assets/colab-badge.svg\" alt=\"Open In Colab\"/></a>"
      ]
    },
    {
      "cell_type": "markdown",
      "source": [
        "K Fold Cross Validation :\n",
        "\n",
        "evaluating model performance"
      ],
      "metadata": {
        "id": "lNDraNdK1wTT"
      }
    },
    {
      "cell_type": "code",
      "execution_count": 2,
      "metadata": {
        "id": "uzoA-YYb1lHO"
      },
      "outputs": [],
      "source": [
        "from sklearn.linear_model import LogisticRegression\n",
        "from sklearn.svm import SVC\n",
        "from sklearn.ensemble import RandomForestClassifier\n",
        "import numpy as np\n",
        "import pandas as pd\n",
        "from sklearn.datasets import load_digits\n",
        "import matplotlib.pyplot as plt\n",
        "digits = load_digits()"
      ]
    },
    {
      "cell_type": "code",
      "source": [
        "from sklearn.model_selection import train_test_split\n",
        "X_train , X_test , y_train , y_test = train_test_split(digits.data, digits.target,test_size=0.3)"
      ],
      "metadata": {
        "id": "pM-odGYXS7RK"
      },
      "execution_count": 3,
      "outputs": []
    },
    {
      "cell_type": "markdown",
      "source": [
        "Logistic Regression"
      ],
      "metadata": {
        "id": "ipG1W_Y-TYu1"
      }
    },
    {
      "cell_type": "code",
      "source": [
        "lr = LogisticRegression(solver = 'liblinear', multi_class='ovr')\n",
        "lr.fit(X_train, y_train)\n",
        "lr.score(X_test, y_test)"
      ],
      "metadata": {
        "colab": {
          "base_uri": "https://localhost:8080/"
        },
        "id": "uds_J0VhTWOJ",
        "outputId": "ad67aeb0-4a4a-4a09-a3be-04e11476d0d5"
      },
      "execution_count": 4,
      "outputs": [
        {
          "output_type": "execute_result",
          "data": {
            "text/plain": [
              "0.9537037037037037"
            ]
          },
          "metadata": {},
          "execution_count": 4
        }
      ]
    },
    {
      "cell_type": "markdown",
      "source": [
        "SVM"
      ],
      "metadata": {
        "id": "TfUWBspGTprZ"
      }
    },
    {
      "cell_type": "code",
      "source": [
        "svm = SVC(gamma = 'auto')\n",
        "svm.fit(X_train, y_train)\n",
        "svm.score(X_test, y_test)"
      ],
      "metadata": {
        "colab": {
          "base_uri": "https://localhost:8080/"
        },
        "id": "2hFbK7utTqu6",
        "outputId": "33806fd3-1ffd-48b5-ccdc-6071741053e9"
      },
      "execution_count": 5,
      "outputs": [
        {
          "output_type": "execute_result",
          "data": {
            "text/plain": [
              "0.337037037037037"
            ]
          },
          "metadata": {},
          "execution_count": 5
        }
      ]
    },
    {
      "cell_type": "markdown",
      "source": [
        "Random Forest"
      ],
      "metadata": {
        "id": "y9Cqy2P6T2KQ"
      }
    },
    {
      "cell_type": "code",
      "source": [
        "rf = RandomForestClassifier(n_estimators = 40)\n",
        "rf.fit(X_train, y_train)\n",
        "rf.score(X_test, y_test)"
      ],
      "metadata": {
        "colab": {
          "base_uri": "https://localhost:8080/"
        },
        "id": "J0Ob2FqtT1xJ",
        "outputId": "9b0a572c-edb4-44d1-c7a0-1aeb13387368"
      },
      "execution_count": 6,
      "outputs": [
        {
          "output_type": "execute_result",
          "data": {
            "text/plain": [
              "0.9740740740740741"
            ]
          },
          "metadata": {},
          "execution_count": 6
        }
      ]
    },
    {
      "cell_type": "markdown",
      "source": [
        "KFold cross validation"
      ],
      "metadata": {
        "id": "3RoEsSdnXpUi"
      }
    },
    {
      "cell_type": "code",
      "source": [
        "# example\n",
        "from sklearn.model_selection import KFold\n",
        "kf = KFold(n_splits = 3)\n",
        "kf"
      ],
      "metadata": {
        "colab": {
          "base_uri": "https://localhost:8080/"
        },
        "id": "hNi34nisXrnB",
        "outputId": "8cc3d7a2-6560-49e1-a7fa-a5ccd27feb8e"
      },
      "execution_count": 9,
      "outputs": [
        {
          "output_type": "execute_result",
          "data": {
            "text/plain": [
              "KFold(n_splits=3, random_state=None, shuffle=False)"
            ]
          },
          "metadata": {},
          "execution_count": 9
        }
      ]
    },
    {
      "cell_type": "code",
      "source": [
        "for train_index, test_index in kf.split([1,2,3,4,5,6,7,8,9]):\n",
        "  print(train_index, test_index)"
      ],
      "metadata": {
        "colab": {
          "base_uri": "https://localhost:8080/"
        },
        "id": "UOwIPR8kX4mh",
        "outputId": "3bf9daee-5e4b-4f78-cfbc-b0a8f52301e7"
      },
      "execution_count": 10,
      "outputs": [
        {
          "output_type": "stream",
          "name": "stdout",
          "text": [
            "[3 4 5 6 7 8] [0 1 2]\n",
            "[0 1 2 6 7 8] [3 4 5]\n",
            "[0 1 2 3 4 5] [6 7 8]\n"
          ]
        }
      ]
    },
    {
      "cell_type": "markdown",
      "source": [
        "using KFold for our digits dataset "
      ],
      "metadata": {
        "id": "OUt6PEHBYHw1"
      }
    },
    {
      "cell_type": "code",
      "source": [
        "def get_score(model, X_train, X_test, y_train, y_test):\n",
        "  model.fit(X_train, y_train)\n",
        "  return model.score(X_test, y_test)"
      ],
      "metadata": {
        "id": "o-12QbEAYMey"
      },
      "execution_count": 13,
      "outputs": []
    },
    {
      "cell_type": "code",
      "source": [
        "from sklearn.model_selection import StratifiedKFold\n",
        "folds = StratifiedKFold(n_splits=3)\n",
        "\n",
        "scores_logistic = []\n",
        "scores_svm = []\n",
        "scores_rf = []\n",
        "\n",
        "for train_index, test_index in folds.split(digits.data, digits.target):\n",
        "  X_train, X_test, y_train, y_test = digits.data[train_index] , digits.data[test_index], \\\n",
        "                                     digits.target[train_index] , digits.target[test_index]\n",
        "\n",
        "\n",
        "  scores_logistic.append(get_score(LogisticRegression(solver='liblinear',multi_class='ovr'), X_train, X_test, y_train, y_test))  \n",
        "  scores_svm.append(get_score(SVC(gamma='auto'), X_train, X_test, y_train, y_test))\n",
        "  scores_rf.append(get_score(RandomForestClassifier(n_estimators=40), X_train, X_test, y_train, y_test))                                  "
      ],
      "metadata": {
        "id": "eR3KhPmbYb3o"
      },
      "execution_count": 15,
      "outputs": []
    },
    {
      "cell_type": "code",
      "source": [
        "scores_logistic"
      ],
      "metadata": {
        "colab": {
          "base_uri": "https://localhost:8080/"
        },
        "id": "e20S1G1Raaqw",
        "outputId": "67b5ef2e-7943-4736-df33-15a7b8319851"
      },
      "execution_count": 16,
      "outputs": [
        {
          "output_type": "execute_result",
          "data": {
            "text/plain": [
              "[0.8948247078464107, 0.9532554257095158, 0.9098497495826378]"
            ]
          },
          "metadata": {},
          "execution_count": 16
        }
      ]
    },
    {
      "cell_type": "code",
      "source": [
        "scores_svm"
      ],
      "metadata": {
        "colab": {
          "base_uri": "https://localhost:8080/"
        },
        "id": "fCDZI_guacdP",
        "outputId": "f6b4ac94-274d-457b-a222-4950c02b4322"
      },
      "execution_count": 17,
      "outputs": [
        {
          "output_type": "execute_result",
          "data": {
            "text/plain": [
              "[0.3806343906510851, 0.41068447412353926, 0.5125208681135225]"
            ]
          },
          "metadata": {},
          "execution_count": 17
        }
      ]
    },
    {
      "cell_type": "code",
      "source": [
        "scores_rf"
      ],
      "metadata": {
        "colab": {
          "base_uri": "https://localhost:8080/"
        },
        "id": "yE_Zvowdad7m",
        "outputId": "ef98b052-b3f5-45f0-8175-5b9cc5d0bf16"
      },
      "execution_count": 18,
      "outputs": [
        {
          "output_type": "execute_result",
          "data": {
            "text/plain": [
              "[0.9298831385642737, 0.9499165275459098, 0.9181969949916527]"
            ]
          },
          "metadata": {},
          "execution_count": 18
        }
      ]
    },
    {
      "cell_type": "markdown",
      "source": [
        "cross_val_score function"
      ],
      "metadata": {
        "id": "1NJwW9kdaicS"
      }
    },
    {
      "cell_type": "code",
      "source": [
        "from sklearn.model_selection import cross_val_score"
      ],
      "metadata": {
        "id": "hgAdtm_KalXg"
      },
      "execution_count": 19,
      "outputs": []
    },
    {
      "cell_type": "markdown",
      "source": [
        "Logistic Regression model performance using cross_val_score"
      ],
      "metadata": {
        "id": "zJFxPj2-arMc"
      }
    },
    {
      "cell_type": "code",
      "source": [
        "cross_val_score(LogisticRegression(solver = 'liblinear', multi_class = 'ovr'), digits.data, digits.target, cv = 3)"
      ],
      "metadata": {
        "colab": {
          "base_uri": "https://localhost:8080/"
        },
        "id": "rOOQX36RavyX",
        "outputId": "8c604653-f8bc-4b87-9984-6a79ff86ffcf"
      },
      "execution_count": 20,
      "outputs": [
        {
          "output_type": "execute_result",
          "data": {
            "text/plain": [
              "array([0.89482471, 0.95325543, 0.90984975])"
            ]
          },
          "metadata": {},
          "execution_count": 20
        }
      ]
    },
    {
      "cell_type": "markdown",
      "source": [
        "svm model performance using cross_val_score"
      ],
      "metadata": {
        "id": "nPNyJg8LawnH"
      }
    },
    {
      "cell_type": "code",
      "source": [
        "cross_val_score(SVC(gamma = 'auto'), digits.data, digits.target, cv = 3)"
      ],
      "metadata": {
        "colab": {
          "base_uri": "https://localhost:8080/"
        },
        "id": "ll2o36fBa0u7",
        "outputId": "2ef8fab7-f420-4ef7-f579-8f7c271e7a38"
      },
      "execution_count": 21,
      "outputs": [
        {
          "output_type": "execute_result",
          "data": {
            "text/plain": [
              "array([0.38063439, 0.41068447, 0.51252087])"
            ]
          },
          "metadata": {},
          "execution_count": 21
        }
      ]
    },
    {
      "cell_type": "markdown",
      "source": [
        "random forest performance using cross_val_score"
      ],
      "metadata": {
        "id": "6PRV0ClOa1PR"
      }
    },
    {
      "cell_type": "code",
      "source": [
        "cross_val_score(RandomForestClassifier(n_estimators = 40), digits.data, digits.target, cv = 3)"
      ],
      "metadata": {
        "colab": {
          "base_uri": "https://localhost:8080/"
        },
        "id": "SugZLakjbRqW",
        "outputId": "8ae3d3a5-9ba5-4ce6-adcb-a54217063f91"
      },
      "execution_count": 23,
      "outputs": [
        {
          "output_type": "execute_result",
          "data": {
            "text/plain": [
              "array([0.94824708, 0.94824708, 0.91819699])"
            ]
          },
          "metadata": {},
          "execution_count": 23
        }
      ]
    },
    {
      "cell_type": "markdown",
      "source": [
        "parameter tunning using K Fold cross validation"
      ],
      "metadata": {
        "id": "4phfCAcIbmmX"
      }
    },
    {
      "cell_type": "code",
      "source": [
        "scores1 = cross_val_score(RandomForestClassifier(n_estimators=5),digits.data, digits.target, cv=10)\n",
        "np.average(scores1)"
      ],
      "metadata": {
        "colab": {
          "base_uri": "https://localhost:8080/"
        },
        "id": "MwlDPaKDbq3P",
        "outputId": "7e33906a-77b7-4822-afe7-637f1ad59c63"
      },
      "execution_count": 26,
      "outputs": [
        {
          "output_type": "execute_result",
          "data": {
            "text/plain": [
              "0.8659124767225327"
            ]
          },
          "metadata": {},
          "execution_count": 26
        }
      ]
    },
    {
      "cell_type": "code",
      "source": [
        "scores2 = cross_val_score(RandomForestClassifier(n_estimators=20),digits.data, digits.target, cv=10)\n",
        "np.average(scores2)"
      ],
      "metadata": {
        "colab": {
          "base_uri": "https://localhost:8080/"
        },
        "id": "wDaE0XYkbv5w",
        "outputId": "e38756c2-2e06-4f72-9aed-91fdeb825761"
      },
      "execution_count": 24,
      "outputs": [
        {
          "output_type": "execute_result",
          "data": {
            "text/plain": [
              "0.9365394165114834"
            ]
          },
          "metadata": {},
          "execution_count": 24
        }
      ]
    },
    {
      "cell_type": "code",
      "source": [
        "scores3 = cross_val_score(RandomForestClassifier(n_estimators=30),digits.data, digits.target, cv=10)\n",
        "np.average(scores3)\n"
      ],
      "metadata": {
        "colab": {
          "base_uri": "https://localhost:8080/"
        },
        "id": "sEeeNJNcbxzA",
        "outputId": "d5835ca9-033b-4d09-d9dd-2f11c39abf5e"
      },
      "execution_count": 25,
      "outputs": [
        {
          "output_type": "execute_result",
          "data": {
            "text/plain": [
              "0.9426784605834884"
            ]
          },
          "metadata": {},
          "execution_count": 25
        }
      ]
    },
    {
      "cell_type": "code",
      "source": [
        "scores4 = cross_val_score(RandomForestClassifier(n_estimators=40),digits.data, digits.target, cv=10)\n",
        "np.average(scores4)"
      ],
      "metadata": {
        "colab": {
          "base_uri": "https://localhost:8080/"
        },
        "id": "s0dcSgCTbzUN",
        "outputId": "85a0d69b-e1ed-4b95-ee8a-416cd949f6c6"
      },
      "execution_count": 27,
      "outputs": [
        {
          "output_type": "execute_result",
          "data": {
            "text/plain": [
              "0.9454624456859093"
            ]
          },
          "metadata": {},
          "execution_count": 27
        }
      ]
    }
  ]
}